{
 "cells": [
  {
   "cell_type": "markdown",
   "metadata": {
    "id": "XhATaaotWpYY"
   },
   "source": [
    "# HW\\#7 Two-View Geometry\n",
    "\n"
   ]
  },
  {
   "cell_type": "markdown",
   "metadata": {
    "id": "YaFe_Ot-ziRV"
   },
   "source": [
    "## Import Modules"
   ]
  },
  {
   "cell_type": "code",
   "execution_count": null,
   "metadata": {
    "colab": {
     "base_uri": "https://localhost:8080/",
     "height": 334
    },
    "executionInfo": {
     "elapsed": 231,
     "status": "error",
     "timestamp": 1612557788001,
     "user": {
      "displayName": "Taeyoung Lee",
      "photoUrl": "",
      "userId": "07906618747313337531"
     },
     "user_tz": 300
    },
    "id": "XOGSROrK6oGt",
    "outputId": "201bf5ab-4d81-436e-cb82-4c62e1feaf32"
   },
   "outputs": [],
   "source": [
    "import numpy as np\n",
    "import cv2\n",
    "import matplotlib.pyplot as plt\n",
    "import math\n",
    "import scipy.signal\n",
    "import scipy.linalg\n",
    "import mae6292.tools as mae6292\n",
    "import importlib\n",
    "\n",
    "from mae6292.imshow import cv2_imshow"
   ]
  },
  {
   "cell_type": "markdown",
   "metadata": {
    "id": "SEUEyf2dPM-4"
   },
   "source": [
    "## Load Image and Feature Points\n",
    "\n",
    "We load two images and the matched keypoints. They are visualized as follows.\n"
   ]
  },
  {
   "cell_type": "code",
   "execution_count": null,
   "metadata": {},
   "outputs": [],
   "source": [
    "# load images\n",
    "img1 = cv2.imread('data/0001.jpg')\n",
    "img2 = cv2.imread('data/0002.jpg')\n",
    "\n",
    "# load intrinsic paramters\n",
    "K = np.array([[1379.74, 0, 760.35],[0, 1382.08, 503.41], [0,0,1]])\n",
    "K1 = K;\n",
    "K2 = K;\n",
    "\n",
    "# load matches keypoints \n",
    "p1 = np.loadtxt('data/matches0001.txt')\n",
    "p2 = np.loadtxt('data/matches0002.txt')\n",
    "n = p1.shape[1]\n",
    "# extend to homogeneous cooridinates\n",
    "p1 = np.concatenate( (p1, np.ones((1,n))), axis=0 )\n",
    "p2 = np.concatenate( (p2, np.ones((1,n))), axis=0 )\n",
    "\n",
    "# visualization\n",
    "fig, axes = plt.subplots(1, 2, dpi=120, figsize=(12,6))\n",
    "axes[0].imshow(cv2.cvtColor(img1, cv2.COLOR_BGR2RGB))\n",
    "axes[0].plot(p1[0,:],p1[1,:],'y.')\n",
    "axes[0].axis('off')\n",
    "\n",
    "axes[1].imshow(cv2.cvtColor(img2, cv2.COLOR_BGR2RGB))\n",
    "axes[1].plot(p2[0,:],p2[1,:],'y.')\n",
    "axes[1].axis('off')"
   ]
  },
  {
   "cell_type": "markdown",
   "metadata": {},
   "source": [
    "## Problem 1 (Eight-Point Algorithm)\n",
    "\n",
    "For the given $p_1, p_2, K_1, K_2$, compute the essential matrix according to the following steps. \n",
    "\n",
    "1. First, pixel coordinates are normalized by left-multiplying $K^{-1}$.\n",
    "   Use [scipy.linalg.inv()](https://docs.scipy.org/doc/scipy/reference/generated/scipy.linalg.inv.html)\n",
    "\n",
    "2. Each row of $Q$ is given by $(\\bar p_1^i \\otimes \\bar p_2^i)^T$. Use [np.kron()](https://numpy.org/doc/stable/reference/generated/numpy.kron.html)\n",
    "\n",
    "3. Decompose $Q = US V^T$, and $\\mathrm{vec}(E)$ corresponds to the last column of $V$. Use [scipy.linalg.svd()](https://docs.scipy.org/doc/scipy/reference/generated/scipy.linalg.svd.html)\n",
    "\n",
    "4. Reshape $\\mathrm{vec}(E)$ into a 3 by 3 matrix $E$.  \n",
    "\n",
    "And verity that \n",
    "```\n",
    "E=[[-2.32658231e-04 -2.30066653e-02 -1.38566261e-03]\n",
    " [ 1.61584860e-01  1.70952962e-03  6.90754078e-01]\n",
    " [-1.94754336e-03 -7.04422370e-01  5.14852933e-04]]\n",
    "```"
   ]
  },
  {
   "cell_type": "code",
   "execution_count": null,
   "metadata": {},
   "outputs": [],
   "source": []
  },
  {
   "cell_type": "markdown",
   "metadata": {},
   "source": [
    "## Problem 2 (Triangulation)\n",
    "\n",
    "See the notes for triangulartion in stereo vison. Let the perspective projection matrix be $M_1 = K_1[I_{3\\times3}|0]$ and $M_2 = K_2[R|T]$. \n",
    "For given $p_1, p_2, M_1, M_2$, generate a function that returns the 3D world cooridiantes $P^i$ of features. \n",
    "We need this function to resolve the ambiguity in extracting $(R,T)$ from $E$.\n",
    "\n",
    "The homogeneous coordinates of the 3D point $P^i$ belongs to the null space of\n",
    "\\begin{align*}\n",
    "null \\begin{bmatrix} \\hat p^i_1 M_1 \\\\ \\hat p^i_2 M_2 \\end{bmatrix}_{6\\times 4}\n",
    "\\end{align*}\n",
    "The hat map has been implemented at `mae6292.hat()`. When defining $M$, one can use [np.concatenate()](https://numpy.org/doc/stable/reference/generated/numpy.concatenate.html)"
   ]
  },
  {
   "cell_type": "code",
   "execution_count": null,
   "metadata": {},
   "outputs": [],
   "source": [
    "def triangulation(p1, p2, M1, M2):\n",
    "    # Input\n",
    "    # p1, p2: 3 by n pixel homogeneous coordinates\n",
    "    # M1, M2, 3 by 4 perspective projection matrix\n",
    "    # Output\n",
    "    # P: 3 by n (nonhomogeneous) world coordinate\n",
    "    assert(p1.shape[0]==3 and p2.shape[0]==3 and p1.shape[1]==p2.shape[1] )\n",
    "    \n",
    "    n=p1.shape[1]\n",
    "\n",
    "\n",
    "    \n",
    "    \n",
    "    \n",
    "    \n",
    "    \n",
    "    \n",
    "    \n",
    "    \n",
    "    return P"
   ]
  },
  {
   "cell_type": "markdown",
   "metadata": {},
   "source": [
    "Verify the above function with random data. Since we did not use any special structure of $M_1$ and $M_2$ in the above expression, they can be generated randomly. The following codes generate random inputs, and the resulting error is supposed to be at the order of $10^{-14}-10^{-15}$."
   ]
  },
  {
   "cell_type": "code",
   "execution_count": null,
   "metadata": {},
   "outputs": [],
   "source": [
    "n_test = 10\n",
    "P_test = np.random.rand(4,n_test)\n",
    "M1_test = np.random.rand(3,4)\n",
    "M2_test = np.random.rand(3,4)\n",
    "p1_test = M1_test@P_test\n",
    "p2_test = M2_test@P_test\n",
    "\n",
    "P_test_new = triangulation( p1_test, p2_test, M1_test, M2_test)\n",
    "\n",
    "print('Recontrsuction error for P',scipy.linalg.norm(P_test[0:3,:]/P_test[3,:]-P_test_new))"
   ]
  },
  {
   "cell_type": "markdown",
   "metadata": {},
   "source": [
    "## Problem 3 (Extract $(R,T)$)\n",
    "\n",
    "### (a) Compute four combinations of $(R,T)$\n",
    "Let the singular value decomposition of the essential matrix be $E = USV^T$. The corresponding relative pose $(R,T)$ can be extracted by\n",
    "\\begin{align*}\n",
    "R & = \\det(UV^T) U W V^T, \\text{ or } \\det(UV^T) UW^TV^T,\\\\\n",
    "T & = \\pm U e_3,\n",
    "\\end{align*}\n",
    "where \n",
    "\\begin{align*}\n",
    "W =\n",
    "\\begin{bmatrix} 0 &  1 & 0 \\\\\n",
    "        - 1 & 0 & 0 \\\\\n",
    "    0 & 0 & 1 \\end{bmatrix}.\n",
    "\\end{align*}\n",
    "\n",
    "As such there are four possible combinations of $(R,T)$. Compute all of four combinations of $(R,T)$.\n",
    "\n"
   ]
  },
  {
   "cell_type": "code",
   "execution_count": null,
   "metadata": {},
   "outputs": [],
   "source": [
    "R = np.zeros((3,3,4))\n",
    "T = np.zeros((3,4))\n",
    "W = np.array( [[0,1,0], [-1,0,0], [0,0,1]])\n",
    "\n"
   ]
  },
  {
   "cell_type": "markdown",
   "metadata": {},
   "source": [
    "## (b) Identify the true $(R,T)$\n",
    "\n",
    "Among the four combinations, only one guarantees that the 3D points are in front of both cameras. Using the function `triangulation`, compute $P^i$ for each combination of $(R,T)$, and count the number of feature points that have negative $Z_w$ value. The particular combination of $(R,T)$ with the mininum number of depth is the correct one.\n",
    "\n",
    "One may use [np.where()](https://numpy.org/doc/stable/reference/generated/numpy.where.html) and [np.argmin()](https://numpy.org/doc/stable/reference/generated/numpy.argmin.html)\n",
    "\n",
    "Verity that\n",
    "```\n",
    "T= [[ 0.9994653 ]\n",
    " [ 0.00197824]\n",
    " [-0.03263744]]\n",
    "```"
   ]
  },
  {
   "cell_type": "code",
   "execution_count": null,
   "metadata": {},
   "outputs": [],
   "source": [
    "M1 = K1@np.concatenate( (np.identity(3), np.zeros((3,1))), axis=1 )\n",
    "N_negative_depth = np.zeros(4)\n",
    "\n",
    "\n",
    "\n",
    "\n",
    "\n",
    "print('T=',T)"
   ]
  },
  {
   "cell_type": "markdown",
   "metadata": {},
   "source": [
    "### (c) Triangulation\n",
    "\n",
    "Using the extracted $(R,T)$, triangulate $P^i$.\n",
    "\n",
    "Verify \n",
    "```\n",
    "P^0= [-0.14620011 -1.67792297  5.06569238]\n",
    "```"
   ]
  },
  {
   "cell_type": "code",
   "execution_count": null,
   "metadata": {},
   "outputs": [],
   "source": []
  },
  {
   "cell_type": "markdown",
   "metadata": {},
   "source": [
    "### (d) Reprojection Error\n",
    "\n",
    "Using the extracted $R,T$ and the triangulated $P$, project $P$ back to the image plane with\n",
    "\\begin{align*}\n",
    "\\lambda_1^i \\tilde p^i_1 = M_1 P,\\quad \\lambda_2^i \\tilde p^i_2 = M_2 P.\n",
    "\\end{align*}\n",
    "De-homogenize $\\tilde p^i_1$ and $\\tilde p^i_2$ to obtain $(\\tilde u^i_1, \\tilde v^i_1)$ and $(\\tilde u^i_2, \\tilde v^i_2)$ respectively. \n",
    "\n",
    "Let $(u_1^i, v_1^i)$ and $(u_2^i, v_2^i)$ be the original pixel cooridantes.\n",
    "The reprojection error is\n",
    "\\begin{align*}\n",
    "\\mathrm{err} = \\sum_{i=1}^n (u^i_1 - \\tilde u^i_1)^2 + (v^i_1-\\tilde v^i_1)^2 + \n",
    "(u^i_2 - \\tilde u^i_2)^2 + (v^i_2-\\tilde v^i_2)^2\n",
    "\\end{align*}\n",
    "\n",
    "Compute the reprojection error. You may see [SSD in numpy/scipy](https://stackoverflow.com/questions/2284611/sum-of-square-differences-ssd-in-numpy-scipy/2284634)\n",
    "\n",
    "Verify that\n",
    "```\n",
    "error= 8714.388063741104\n",
    "```"
   ]
  },
  {
   "cell_type": "code",
   "execution_count": null,
   "metadata": {},
   "outputs": [],
   "source": []
  },
  {
   "cell_type": "markdown",
   "metadata": {},
   "source": [
    "### (e) Visualization\n",
    "\n",
    "Visualize the 3D scene by the following commands. You may turn the viewpoint such that the reconstructed scene resemsbles the images above, save it into `prob2.png` using the command \n",
    "```\n",
    "plt.savefig('prob2.png')\n",
    "```"
   ]
  },
  {
   "cell_type": "code",
   "execution_count": null,
   "metadata": {},
   "outputs": [],
   "source": [
    "def draw_frame(ax, R, T, length=1):\n",
    "    C = -R.T@T.flatten()\n",
    "    colors=('r','g','b')\n",
    "    for i in range(3):\n",
    "        ax.plot((C[0],C[0]+length*R[i,0]),(C[1],C[1]+length*R[i,1]),(C[2],C[2]+length*R[i,2]), colors[i])"
   ]
  },
  {
   "cell_type": "code",
   "execution_count": null,
   "metadata": {},
   "outputs": [],
   "source": [
    "\n",
    "fig = plt.figure(dpi=150)\n",
    "ax = fig.add_subplot(projection='3d')\n",
    "\n",
    "ax.plot(P[0,:],P[1,:],P[2,:],'b.')\n",
    "ax.axes.set_xlim3d(-3,3)\n",
    "ax.axes.set_ylim3d(-3,3) \n",
    "ax.axes.set_zlim3d(-1,6)\n",
    "ax.set_xlabel('x')ax.set_ylabel('y')\n",
    "ax.set_zlabel('z')\n",
    "\n",
    "draw_frame(ax, R,T)\n",
    "draw_frame(ax, np.identity(3), np.zeros((3,1)) )\n",
    "\n",
    "ax.view_init(-90,-90) # front view\n"
   ]
  },
  {
   "cell_type": "markdown",
   "metadata": {},
   "source": [
    "## How to Submit\n",
    "\n",
    "Add\n",
    "1. `prob2.png`\n",
    "\n",
    "to your commit and push it to github."
   ]
  },
  {
   "cell_type": "code",
   "execution_count": null,
   "metadata": {},
   "outputs": [],
   "source": []
  }
 ],
 "metadata": {
  "colab": {
   "collapsed_sections": [
    "YaFe_Ot-ziRV"
   ],
   "name": "image_filtering.ipynb",
   "provenance": [],
   "toc_visible": true
  },
  "kernelspec": {
   "display_name": "Python 3",
   "language": "python",
   "name": "python3"
  },
  "language_info": {
   "codemirror_mode": {
    "name": "ipython",
    "version": 3
   },
   "file_extension": ".py",
   "mimetype": "text/x-python",
   "name": "python",
   "nbconvert_exporter": "python",
   "pygments_lexer": "ipython3",
   "version": "3.8.3"
  }
 },
 "nbformat": 4,
 "nbformat_minor": 1
}
